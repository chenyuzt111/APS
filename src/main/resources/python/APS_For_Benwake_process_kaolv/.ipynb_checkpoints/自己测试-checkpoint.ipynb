{
 "cells": [
  {
   "cell_type": "code",
   "execution_count": 1,
   "id": "d92c870c-8638-49af-beb0-c9be638b65c4",
   "metadata": {},
   "outputs": [],
   "source": [
    "import csv\n",
    "import datetime\n",
    "import pandas as pd\n",
    "import numpy as np\n",
    "import math\n",
    "import random\n",
    "import matplotlib.pyplot as plt\n",
    "from collections import Counter\n",
    "import time"
   ]
  },
  {
   "cell_type": "code",
   "execution_count": 2,
   "id": "bbcb62c7-30f5-4c08-9f36-c4c4d8c3e1e4",
   "metadata": {},
   "outputs": [],
   "source": [
    "process_start_time = time.time()\n",
    "time.sleep(2)\n",
    "process_end_time = time.time()\n",
    "process_running_time = process_end_time - process_start_time"
   ]
  },
  {
   "cell_type": "code",
   "execution_count": 7,
   "id": "91a38336-c02d-4610-8fdb-704f0418bb53",
   "metadata": {},
   "outputs": [
    {
     "name": "stdout",
     "output_type": "stream",
     "text": [
      "程序运行时间为2.01s\n"
     ]
    }
   ],
   "source": [
    "print(\"程序运行时间为:{}s\".format(round(process_running_time,2)))"
   ]
  },
  {
   "cell_type": "code",
   "execution_count": 11,
   "id": "2fb64b31-e26a-4c37-aa4a-f298f83da364",
   "metadata": {},
   "outputs": [
    {
     "name": "stdout",
     "output_type": "stream",
     "text": [
      "2.009047\n"
     ]
    }
   ],
   "source": [
    "print(f\"{:02f}\")"
   ]
  },
  {
   "cell_type": "code",
   "execution_count": 13,
   "id": "9dcc666e-ce1d-46c4-bcda-ba3b658e3fc5",
   "metadata": {},
   "outputs": [
    {
     "name": "stdout",
     "output_type": "stream",
     "text": [
      "程序运行时间为： 00:16:43\n"
     ]
    }
   ],
   "source": [
    "def seconds_to_hh_mm_ss(seconds):\n",
    "    hours, remainder = divmod(seconds, 3600)\n",
    "    minutes, seconds = divmod(remainder, 60)\n",
    "    return f\"{int(hours):02d}:{int(minutes):02d}:{int(seconds):02d}\"\n",
    "\n",
    "formatted_time = seconds_to_hh_mm_ss(1003.69)\n",
    "print(\"程序运行时间为：\", formatted_time) "
   ]
  },
  {
   "cell_type": "code",
   "execution_count": 16,
   "id": "39c66def-11ac-4051-8893-ea716508b8c4",
   "metadata": {},
   "outputs": [
    {
     "name": "stdout",
     "output_type": "stream",
     "text": [
      "Name: Alice, Age: 30\n"
     ]
    }
   ],
   "source": [
    "name = \"Alice\"\n",
    "age = 30\n",
    "output = \"\".join([\"Name: \", name, \", Age: \", str(age)])\n",
    "print(output)\n"
   ]
  },
  {
   "cell_type": "code",
   "execution_count": null,
   "id": "11400a90-97e2-423d-b535-e4af124b74d8",
   "metadata": {},
   "outputs": [],
   "source": []
  },
  {
   "cell_type": "code",
   "execution_count": null,
   "id": "8cbf744f-aeb2-479b-9ec4-39230e45befd",
   "metadata": {},
   "outputs": [],
   "source": []
  },
  {
   "cell_type": "code",
   "execution_count": null,
   "id": "762fb5a7-41fe-4798-b6f9-4be2b9a3e7a8",
   "metadata": {},
   "outputs": [],
   "source": []
  },
  {
   "cell_type": "code",
   "execution_count": null,
   "id": "ac4229e3-320f-419d-abb8-032044395be8",
   "metadata": {},
   "outputs": [],
   "source": []
  },
  {
   "cell_type": "code",
   "execution_count": null,
   "id": "cfce046c-505e-4576-8406-218916ede0c2",
   "metadata": {},
   "outputs": [],
   "source": []
  },
  {
   "cell_type": "code",
   "execution_count": null,
   "id": "12018a93-d659-440a-9b02-e2fb8eca3347",
   "metadata": {},
   "outputs": [],
   "source": []
  },
  {
   "cell_type": "code",
   "execution_count": null,
   "id": "e1bc418b-9ed9-40f6-85d5-9cacaa641679",
   "metadata": {},
   "outputs": [],
   "source": []
  },
  {
   "cell_type": "markdown",
   "id": "ee5d650c-b71a-4960-8d89-8003abbd5ca0",
   "metadata": {},
   "source": [
    "### config.py设置基础参数"
   ]
  },
  {
   "cell_type": "code",
   "execution_count": 10,
   "id": "8dec5f5a-c3d2-4b42-987f-d7bd71a273f9",
   "metadata": {},
   "outputs": [],
   "source": [
    "# 排程设置\n",
    "\n",
    "hours_in_day = 9.5  # 小时 每人每天工作时间，单位h\n",
    "day_in_week = 6  # 天 每周工作的天数\n",
    "unit_time = 0.05  # 小时 排程的单位时间间隔，单位h\n",
    "\n",
    "# 一天时间安排\n",
    "start_time_day = '9:00'  # 一天的开始时间\n",
    "noon_rest_time = '12:00/13:00'  # 中午休息时间\n",
    "afternoon_rest_time = '17:30/18:00'  # 晚上休息时间\n",
    "unit_time_day = 30  # 分钟 半个小时为间隔跳转(min)\n",
    "rest_hours = 1.5  # 小时 每天的休息时长(h)\n",
    "transfer_rest_time = 5  # min 任务转移需要时间\n",
    "\n",
    "# 人数组装设置\n",
    "max_people_in_machine = 5  # 个 单个机器的最大人数\n",
    "# 寻优设置\n",
    "number_cycles = 1  # 循环次数\n",
    "\n",
    "# 排程开始时间\n",
    "start_time = '2023-08-11'  # 排程的开始时间\n",
    "scheduled_days_num = 120  # 天 排程的工作日\n",
    "\n",
    "# 销售订单转化生产订单\n",
    "scheduling_workload = 150  # 天 规定对应时间段内的生产计划\n",
    "\n",
    "# 考虑工序\n",
    "Consider_the_process = False\n",
    "\n",
    "# 是否并行生产\n",
    "produce_in_parallel = True\n",
    "\n",
    "# 是否考虑物料\n",
    "consider_the_material = True\n",
    "\n",
    "# 考虑历史遗留\n",
    "consider_history = True\n",
    "\n",
    "# 设置并行生产的批量，10个10个做还是100个做还是1个做完就可以并行生产\n",
    "bach_size = 10  # 个数\n",
    "\n",
    "# po优先级提前几天生产\n",
    "in_advance_po = 7"
   ]
  },
  {
   "cell_type": "code",
   "execution_count": null,
   "id": "0393a2c0-02bc-47a5-b8be-cd0ae04980fc",
   "metadata": {},
   "outputs": [],
   "source": []
  },
  {
   "cell_type": "code",
   "execution_count": null,
   "id": "a75c88cd-d84a-4a06-988b-d296e10e2716",
   "metadata": {},
   "outputs": [],
   "source": []
  },
  {
   "cell_type": "code",
   "execution_count": 12,
   "id": "3bfd0f5e-a0ed-498c-852f-a5697dcaa964",
   "metadata": {},
   "outputs": [],
   "source": [
    "if Consider_the_process:  # 考虑工序\n",
    "    product_address = 'data/origin_data/product_capacity_process_small.csv'  # 对应文档中输入-物料产能数据-考虑工序\n",
    "    people_type_address = 'data/origin_data/people_type_process_small.csv'  # 对应文档中物料人数数据-考虑工序\n",
    "else:\n",
    "    product_address = 'data/origin_data/product_capacity.csv'  # 对应文档中输入-物料产能数据-不考虑工序\n",
    "    people_type_address = 'data/origin_data/people_type.csv'  # 对应文档中物料人数数据-不考虑工序\n",
    "inventory_address = 'data/origin_data/product_inventory.csv'  # 对应文档中输入-半成品库存信息\n",
    "date_address = 'data/origin_data/Working_Calendar.csv'  # 对应文档中输入-工作日历\n",
    "sale_address = 'data/origin_data/sale_plan.csv'  # 对应文档中开始加工时间计算\n",
    "history_address = 'data/origin_data/history_information.csv'  # 对应文档中未完工数据整理\n",
    "route_information_address = 'data/origin_data/route_information.csv'  # 对应文档中sheet18"
   ]
  },
  {
   "cell_type": "code",
   "execution_count": null,
   "id": "f9840fee-3690-4d3e-81c7-b2f15a404acd",
   "metadata": {},
   "outputs": [],
   "source": []
  },
  {
   "cell_type": "code",
   "execution_count": null,
   "id": "eee4cb42-48f8-42a7-8529-45b8ebe50fab",
   "metadata": {},
   "outputs": [],
   "source": []
  },
  {
   "cell_type": "code",
   "execution_count": null,
   "id": "e31579d2-0607-44d2-84a8-94340eb26d3b",
   "metadata": {},
   "outputs": [],
   "source": []
  },
  {
   "cell_type": "code",
   "execution_count": null,
   "id": "2606ee85-3801-41c0-93d3-6850b0edaf74",
   "metadata": {},
   "outputs": [],
   "source": []
  },
  {
   "cell_type": "code",
   "execution_count": null,
   "id": "722ce931-5bce-4d71-8e55-dd9e3a401c6d",
   "metadata": {},
   "outputs": [],
   "source": []
  }
 ],
 "metadata": {
  "kernelspec": {
   "display_name": "Python 3 (ipykernel)",
   "language": "python",
   "name": "python3"
  },
  "language_info": {
   "codemirror_mode": {
    "name": "ipython",
    "version": 3
   },
   "file_extension": ".py",
   "mimetype": "text/x-python",
   "name": "python",
   "nbconvert_exporter": "python",
   "pygments_lexer": "ipython3",
   "version": "3.8.13"
  }
 },
 "nbformat": 4,
 "nbformat_minor": 5
}
